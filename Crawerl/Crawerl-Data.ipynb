{
 "cells": [
  {
   "cell_type": "code",
   "execution_count": 1,
   "id": "1afb8078",
   "metadata": {},
   "outputs": [],
   "source": [
    "import openai\n",
    "import os\n",
    "import json\n",
    "import time\n",
    "import numpy as np"
   ]
  },
  {
   "cell_type": "code",
   "execution_count": 2,
   "id": "f7a5066c",
   "metadata": {},
   "outputs": [],
   "source": [
    "openai.api_key = \"\""
   ]
  },
  {
   "cell_type": "code",
   "execution_count": null,
   "id": "6eaa1987",
   "metadata": {},
   "outputs": [],
   "source": []
  },
  {
   "cell_type": "code",
   "execution_count": 3,
   "id": "d9b6a2a3",
   "metadata": {},
   "outputs": [],
   "source": [
    "class PromptGenerator:\n",
    "    def __init__(self,):\n",
    "        self.summary_query = ['Summarize this paragraph into a sentence: ',\n",
    "            'Brifely rephrase this paragraph: ',\n",
    "            'Express this paragraph in a sentence: ',\n",
    "            'Make a conclusion for this paragraph in a sentence: ',\n",
    "            \"Summarize the passage in a concise manner: \",\n",
    "            \"Condense the text into a brief summary: \",\n",
    "            \"Present a brief synopsis of the text: \",\n",
    "            \"Sum up the passage succinctly: \",]\n",
    "        self.polish_query = ['Polish this text: ',\n",
    "            'Rewrite this abstract without changing the semantics: ',\n",
    "            'Please rephrase this text: ',\n",
    "            'Express this text differently: ',\n",
    "            'Refine this paragraph:',\n",
    "            'Make this paragraph more polished:',\n",
    "            'Spruce up this paragraph:',\n",
    "            'Please revise this text:']\n",
    "    def prompt_gen(self,text):\n",
    "        return 'Generate an abstract for the title: ' + text\n",
    "    def prompt_sum(self,text,i):\n",
    "        return self.summary_query[i] + text\n",
    "    def prompt_re(self,text):\n",
    "        return self.polish_query[2] + text"
   ]
  },
  {
   "cell_type": "code",
   "execution_count": 4,
   "id": "f635a61e",
   "metadata": {},
   "outputs": [],
   "source": [
    "def InsistAsk(text):\n",
    "    while True:\n",
    "        try:\n",
    "            response = openai.ChatCompletion.create(\n",
    "          model=\"gpt-3.5-turbo\",\n",
    "          messages=[\n",
    "                {\"role\": \"user\", \"content\": text},\n",
    "            ]\n",
    "        )\n",
    "            text = response['choices'][0]['message']['content']\n",
    "            text = text.strip()\n",
    "            return text\n",
    "        except:\n",
    "            print('sleep')\n",
    "            time.sleep(10)\n",
    "    "
   ]
  },
  {
   "cell_type": "code",
   "execution_count": 5,
   "id": "76c440e0",
   "metadata": {},
   "outputs": [],
   "source": [
    "Prompter = PromptGenerator()"
   ]
  },
  {
   "cell_type": "code",
   "execution_count": null,
   "id": "e8ca302c",
   "metadata": {},
   "outputs": [],
   "source": []
  },
  {
   "cell_type": "code",
   "execution_count": 6,
   "id": "9d58c8e4",
   "metadata": {},
   "outputs": [],
   "source": [
    "root_path = '../ExampleData/'\n",
    "dataset = 'PubMed'\n",
    "mix_ratio = 0.3\n",
    "DataNum = 500\n",
    "\n",
    "path = os.path.join(root_path,dataset)\n",
    "with open(os.path.join(path,'raw.txt')) as f:\n",
    "    lines = f.readlines()"
   ]
  },
  {
   "cell_type": "code",
   "execution_count": null,
   "id": "2f2490dd",
   "metadata": {},
   "outputs": [],
   "source": []
  },
  {
   "cell_type": "code",
   "execution_count": null,
   "id": "03f3e599",
   "metadata": {},
   "outputs": [
    {
     "name": "stdout",
     "output_type": "stream",
     "text": [
      "sleep\n",
      "0\n",
      "sleep\n",
      "sleep\n",
      "sleep\n",
      "sleep\n",
      "sleep\n"
     ]
    }
   ],
   "source": [
    "for i in range(DataNum):\n",
    "    raw_data = json.loads(lines[i].strip())\n",
    "    response = {'title':' '.join(raw_data['title']).lower(),'abstract':' '.join(raw_data['abs']).lower()}\n",
    "\n",
    "    response['gen_abstract'] = InsistAsk(Prompter.prompt_gen(response['title'])).lower()\n",
    "    time.sleep(3)\n",
    "    \n",
    "    response['pol_abstract'] = InsistAsk(Prompter.prompt_re(response['abstract'])).lower()\n",
    "    time.sleep(3)\n",
    "    \n",
    "    sentences = response['abstract'].split('.')\n",
    "    sen_num = len(sentences)-1\n",
    "    max_selection_num = int(mix_ratio*sen_num) + 1\n",
    "    if max_selection_num > 1:\n",
    "        human_sentence_num = np.random.randint(1,max_selection_num)\n",
    "    else:\n",
    "        human_sentence_num = 0\n",
    "    seleteced_sids = np.random.permutation(sen_num)[:human_sentence_num]\n",
    "    seleteced_sids = seleteced_sids[seleteced_sids.argsort()].tolist() + [sen_num]\n",
    "    pointer = 0\n",
    "    mix_sentence = ''\n",
    "    for right in seleteced_sids:\n",
    "        text_to_polish = sentences[pointer:right]\n",
    "        text_to_retain = sentences[right]\n",
    "        text_to_polish = '.'.join(text_to_polish)\n",
    "        pointer = right + 1\n",
    "        if not text_to_polish == '':\n",
    "            text_to_polish = InsistAsk(Prompter.prompt_re(text_to_polish)).lower()\n",
    "            time.sleep(5)\n",
    "        mix_sentence += text_to_polish + ' ' + text_to_retain + ' '\n",
    "    \n",
    "    mix_sentence = mix_sentence.strip()\n",
    "    \n",
    "    response['mix_abstract'] = mix_sentence.lower()\n",
    "    \n",
    "    with open(os.path.join(path,'exp-data.txt'),'a') as f:\n",
    "        f.write(json.dumps(response)+'\\n')\n",
    "        \n",
    "    print(i)"
   ]
  },
  {
   "cell_type": "code",
   "execution_count": null,
   "id": "e6bfba02",
   "metadata": {},
   "outputs": [],
   "source": []
  },
  {
   "cell_type": "code",
   "execution_count": null,
   "id": "96d7db6e",
   "metadata": {},
   "outputs": [],
   "source": []
  },
  {
   "cell_type": "code",
   "execution_count": null,
   "id": "95e7170c",
   "metadata": {},
   "outputs": [],
   "source": []
  },
  {
   "cell_type": "code",
   "execution_count": null,
   "id": "23fa14c3",
   "metadata": {},
   "outputs": [],
   "source": []
  }
 ],
 "metadata": {
  "kernelspec": {
   "display_name": "Python 3 (ipykernel)",
   "language": "python",
   "name": "python3"
  },
  "language_info": {
   "codemirror_mode": {
    "name": "ipython",
    "version": 3
   },
   "file_extension": ".py",
   "mimetype": "text/x-python",
   "name": "python",
   "nbconvert_exporter": "python",
   "pygments_lexer": "ipython3",
   "version": "3.8.12"
  }
 },
 "nbformat": 4,
 "nbformat_minor": 5
}
